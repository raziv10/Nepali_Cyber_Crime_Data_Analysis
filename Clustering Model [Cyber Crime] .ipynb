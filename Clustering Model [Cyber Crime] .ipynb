{
 "cells": [
  {
   "cell_type": "markdown",
   "metadata": {},
   "source": [
    "### Problem Statement"
   ]
  },
  {
   "cell_type": "markdown",
   "metadata": {},
   "source": [
    "The data is related with Profiling a Cyber Criminal by their personal traits and beliefs.\n",
    "It is a dummy data analysis where clustering algorithm (k-means clustering) is used to cluster the categories.\n",
    "Analysis of the of the data is done inorder to generate some useful insights."
   ]
  },
  {
   "cell_type": "markdown",
   "metadata": {},
   "source": [
    "### Creating Dummy data"
   ]
  },
  {
   "cell_type": "code",
   "execution_count": 358,
   "metadata": {},
   "outputs": [],
   "source": [
    "import numpy as np\n",
    "import pandas as pd"
   ]
  },
  {
   "cell_type": "code",
   "execution_count": 359,
   "metadata": {},
   "outputs": [],
   "source": [
    "columns = [\"Technical Know-How\", \"Personal Traits\", \"Social Characteristics\",\"Motivating Factors\"]\n",
    "data = np.array([['Intelligent', 'Impatient', 'Anti-establishment','Monetary Gain'], \n",
    "                 ['Focused', 'Determined', 'Lack Social Skills','Greed'],\n",
    "                 ['Well-trained', 'Insensitive', 'Inferiority Complex','Political Beliefs'],\n",
    "                 ['Strategic Planners', 'Secretive', 'Low self-worth','Emotions'],\n",
    "                 ['Bully', 'Aggressive', 'Marginalised','Disregard for law'],\n",
    "                 ['Resourceful', 'Strong-willed', 'Radical','Intolerance'],\n",
    "                 ['Goal-oriented', 'Passionate', 'Mass-destruction','Thrill-seeking'],\n",
    "                 ['Well-networked', 'Insensitive', 'Misguided','Risk Tolerance'],\n",
    "                 ['Well-organized', 'Chaotic state of mind', 'Brain-washed','Manipulate Others'],\n",
    "                 ['Well Trained', 'Inhuman Psyche', 'Anti-social','Need to control others'],\n",
    "                 ['Creative', 'Vengenful', 'Anti-state','Concealed Existence'],\n",
    "                 ['Smart', 'Coercive', 'Unlawful','Political Support'],\n",
    "                 ['Skilful', 'Coward', 'Rebellious','Religious Fundamentalism'],])\n",
    "df = pd.DataFrame(data=data, columns=columns)"
   ]
  },
  {
   "cell_type": "code",
   "execution_count": 360,
   "metadata": {},
   "outputs": [],
   "source": [
    "def generate_age(sample):\n",
    "    return np.random.randint(15, 70, size = sample, dtype = 'int')"
   ]
  },
  {
   "cell_type": "code",
   "execution_count": 361,
   "metadata": {},
   "outputs": [],
   "source": [
    "def generate_city(size):\n",
    "    city_names=['Kathmandu','Bhaktapur','Lalitpur','Pokhara','Itahari','Dharan','Biratnagar','Chitwan','Butwal','Hetauda']\n",
    "    city=pd.DataFrame(np.repeat(city_names,size/len(city_names)),columns=['City'])\n",
    "    remove_n = np.random.randint(100,1000)\n",
    "    drop_indices = np.random.choice(city.index, 100, replace=False)\n",
    "    df_subset = city.drop(drop_indices)\n",
    "    df_subset= df_subset.sample(frac=1).reset_index(drop=True)\n",
    "    return df_subset\n",
    "\n",
    "    "
   ]
  },
  {
   "cell_type": "code",
   "execution_count": 362,
   "metadata": {},
   "outputs": [],
   "source": [
    "def generate_dataset(dataframe,sample_rows):\n",
    "    df=dataframe\n",
    "    temp_df=[]\n",
    "    for row in df.itertuples(index=False):\n",
    "        temp_df.extend([list(row)]*sample_rows)\n",
    "        temp_df.append(list(row))\n",
    "        \n",
    "    df=pd.DataFrame(temp_df,columns=df.columns)\n",
    "    np.random.seed(330)\n",
    "    remove_n = np.random.randint(100,1000)\n",
    "    drop_indices = np.random.choice(df.index, 100, replace=False)\n",
    "    df_subset = df.drop(drop_indices)\n",
    "    df_subset= df_subset.sample(frac=0.75).reset_index(drop=True)\n",
    "    return df_subset"
   ]
  },
  {
   "cell_type": "code",
   "execution_count": 363,
   "metadata": {},
   "outputs": [],
   "source": [
    "df=generate_dataset(df,250)\n",
    "age= generate_age(df.shape[0])\n",
    "df_age=pd.DataFrame(age,columns=['Age'])\n",
    "df=pd.concat([df,df_age],axis=1)\n",
    "city=generate_city(df.shape[0])\n",
    "df=pd.concat([df,city],axis=1)\n"
   ]
  },
  {
   "cell_type": "code",
   "execution_count": 364,
   "metadata": {},
   "outputs": [
    {
     "data": {
      "text/html": [
       "<div>\n",
       "<style scoped>\n",
       "    .dataframe tbody tr th:only-of-type {\n",
       "        vertical-align: middle;\n",
       "    }\n",
       "\n",
       "    .dataframe tbody tr th {\n",
       "        vertical-align: top;\n",
       "    }\n",
       "\n",
       "    .dataframe thead th {\n",
       "        text-align: right;\n",
       "    }\n",
       "</style>\n",
       "<table border=\"1\" class=\"dataframe\">\n",
       "  <thead>\n",
       "    <tr style=\"text-align: right;\">\n",
       "      <th></th>\n",
       "      <th>Technical Know-How</th>\n",
       "      <th>Personal Traits</th>\n",
       "      <th>Social Characteristics</th>\n",
       "      <th>Motivating Factors</th>\n",
       "      <th>Age</th>\n",
       "      <th>City</th>\n",
       "    </tr>\n",
       "  </thead>\n",
       "  <tbody>\n",
       "    <tr>\n",
       "      <th>0</th>\n",
       "      <td>Bully</td>\n",
       "      <td>Aggressive</td>\n",
       "      <td>Marginalised</td>\n",
       "      <td>Disregard for law</td>\n",
       "      <td>19</td>\n",
       "      <td>Chitwan</td>\n",
       "    </tr>\n",
       "    <tr>\n",
       "      <th>1</th>\n",
       "      <td>Skilful</td>\n",
       "      <td>Coward</td>\n",
       "      <td>Rebellious</td>\n",
       "      <td>Religious Fundamentalism</td>\n",
       "      <td>59</td>\n",
       "      <td>Lalitpur</td>\n",
       "    </tr>\n",
       "    <tr>\n",
       "      <th>2</th>\n",
       "      <td>Well-networked</td>\n",
       "      <td>Insensitive</td>\n",
       "      <td>Misguided</td>\n",
       "      <td>Risk Tolerance</td>\n",
       "      <td>56</td>\n",
       "      <td>Biratnagar</td>\n",
       "    </tr>\n",
       "    <tr>\n",
       "      <th>3</th>\n",
       "      <td>Well Trained</td>\n",
       "      <td>Inhuman Psyche</td>\n",
       "      <td>Anti-social</td>\n",
       "      <td>Need to control others</td>\n",
       "      <td>31</td>\n",
       "      <td>Pokhara</td>\n",
       "    </tr>\n",
       "    <tr>\n",
       "      <th>4</th>\n",
       "      <td>Goal-oriented</td>\n",
       "      <td>Passionate</td>\n",
       "      <td>Mass-destruction</td>\n",
       "      <td>Thrill-seeking</td>\n",
       "      <td>53</td>\n",
       "      <td>Itahari</td>\n",
       "    </tr>\n",
       "    <tr>\n",
       "      <th>...</th>\n",
       "      <td>...</td>\n",
       "      <td>...</td>\n",
       "      <td>...</td>\n",
       "      <td>...</td>\n",
       "      <td>...</td>\n",
       "      <td>...</td>\n",
       "    </tr>\n",
       "    <tr>\n",
       "      <th>2265</th>\n",
       "      <td>Smart</td>\n",
       "      <td>Coercive</td>\n",
       "      <td>Unlawful</td>\n",
       "      <td>Political Support</td>\n",
       "      <td>62</td>\n",
       "      <td>Biratnagar</td>\n",
       "    </tr>\n",
       "    <tr>\n",
       "      <th>2266</th>\n",
       "      <td>Resourceful</td>\n",
       "      <td>Strong-willed</td>\n",
       "      <td>Radical</td>\n",
       "      <td>Intolerance</td>\n",
       "      <td>29</td>\n",
       "      <td>Hetauda</td>\n",
       "    </tr>\n",
       "    <tr>\n",
       "      <th>2267</th>\n",
       "      <td>Goal-oriented</td>\n",
       "      <td>Passionate</td>\n",
       "      <td>Mass-destruction</td>\n",
       "      <td>Thrill-seeking</td>\n",
       "      <td>37</td>\n",
       "      <td>Lalitpur</td>\n",
       "    </tr>\n",
       "    <tr>\n",
       "      <th>2268</th>\n",
       "      <td>Well Trained</td>\n",
       "      <td>Inhuman Psyche</td>\n",
       "      <td>Anti-social</td>\n",
       "      <td>Need to control others</td>\n",
       "      <td>47</td>\n",
       "      <td>Bhaktapur</td>\n",
       "    </tr>\n",
       "    <tr>\n",
       "      <th>2269</th>\n",
       "      <td>Bully</td>\n",
       "      <td>Aggressive</td>\n",
       "      <td>Marginalised</td>\n",
       "      <td>Disregard for law</td>\n",
       "      <td>19</td>\n",
       "      <td>Chitwan</td>\n",
       "    </tr>\n",
       "  </tbody>\n",
       "</table>\n",
       "<p>2270 rows × 6 columns</p>\n",
       "</div>"
      ],
      "text/plain": [
       "     Technical Know-How Personal Traits Social Characteristics  \\\n",
       "0                 Bully      Aggressive           Marginalised   \n",
       "1               Skilful          Coward             Rebellious   \n",
       "2        Well-networked     Insensitive              Misguided   \n",
       "3          Well Trained  Inhuman Psyche            Anti-social   \n",
       "4         Goal-oriented      Passionate       Mass-destruction   \n",
       "...                 ...             ...                    ...   \n",
       "2265              Smart        Coercive               Unlawful   \n",
       "2266        Resourceful   Strong-willed                Radical   \n",
       "2267      Goal-oriented      Passionate       Mass-destruction   \n",
       "2268       Well Trained  Inhuman Psyche            Anti-social   \n",
       "2269              Bully      Aggressive           Marginalised   \n",
       "\n",
       "            Motivating Factors  Age        City  \n",
       "0            Disregard for law   19     Chitwan  \n",
       "1     Religious Fundamentalism   59    Lalitpur  \n",
       "2               Risk Tolerance   56  Biratnagar  \n",
       "3       Need to control others   31     Pokhara  \n",
       "4               Thrill-seeking   53     Itahari  \n",
       "...                        ...  ...         ...  \n",
       "2265         Political Support   62  Biratnagar  \n",
       "2266               Intolerance   29     Hetauda  \n",
       "2267            Thrill-seeking   37    Lalitpur  \n",
       "2268    Need to control others   47   Bhaktapur  \n",
       "2269         Disregard for law   19     Chitwan  \n",
       "\n",
       "[2270 rows x 6 columns]"
      ]
     },
     "execution_count": 364,
     "metadata": {},
     "output_type": "execute_result"
    }
   ],
   "source": [
    "df.dropna()"
   ]
  },
  {
   "cell_type": "code",
   "execution_count": 365,
   "metadata": {},
   "outputs": [],
   "source": [
    "## save the data in excel file.\n",
    "# df.to_csv('cyber_crime_dataset.csv',index=False)"
   ]
  },
  {
   "cell_type": "markdown",
   "metadata": {},
   "source": [
    "### Data Information (Categorical)"
   ]
  },
  {
   "cell_type": "markdown",
   "metadata": {},
   "source": [
    "* Technical Know-How - String\n",
    "* Personal Traits - String\n",
    "* Social Characteristics - String\n",
    "* Motivating Factors - String\n",
    "* Age- int\n",
    "* City - String"
   ]
  },
  {
   "cell_type": "code",
   "execution_count": 366,
   "metadata": {},
   "outputs": [],
   "source": [
    "## Data visualization\n",
    "import matplotlib.pyplot as plt\n",
    "import seaborn as sns\n",
    "%matplotlib inline\n",
    "from matplotlib.pyplot import xticks"
   ]
  },
  {
   "cell_type": "code",
   "execution_count": 367,
   "metadata": {},
   "outputs": [
    {
     "data": {
      "text/html": [
       "<div>\n",
       "<style scoped>\n",
       "    .dataframe tbody tr th:only-of-type {\n",
       "        vertical-align: middle;\n",
       "    }\n",
       "\n",
       "    .dataframe tbody tr th {\n",
       "        vertical-align: top;\n",
       "    }\n",
       "\n",
       "    .dataframe thead th {\n",
       "        text-align: right;\n",
       "    }\n",
       "</style>\n",
       "<table border=\"1\" class=\"dataframe\">\n",
       "  <thead>\n",
       "    <tr style=\"text-align: right;\">\n",
       "      <th></th>\n",
       "      <th>Technical Know-How</th>\n",
       "      <th>Personal Traits</th>\n",
       "      <th>Social Characteristics</th>\n",
       "      <th>Motivating Factors</th>\n",
       "      <th>City</th>\n",
       "      <th>Age_Range</th>\n",
       "    </tr>\n",
       "  </thead>\n",
       "  <tbody>\n",
       "    <tr>\n",
       "      <th>0</th>\n",
       "      <td>Bully</td>\n",
       "      <td>Aggressive</td>\n",
       "      <td>Marginalised</td>\n",
       "      <td>Disregard for law</td>\n",
       "      <td>Chitwan</td>\n",
       "      <td>0-20</td>\n",
       "    </tr>\n",
       "    <tr>\n",
       "      <th>1</th>\n",
       "      <td>Skilful</td>\n",
       "      <td>Coward</td>\n",
       "      <td>Rebellious</td>\n",
       "      <td>Religious Fundamentalism</td>\n",
       "      <td>Lalitpur</td>\n",
       "      <td>60-70</td>\n",
       "    </tr>\n",
       "    <tr>\n",
       "      <th>2</th>\n",
       "      <td>Well-networked</td>\n",
       "      <td>Insensitive</td>\n",
       "      <td>Misguided</td>\n",
       "      <td>Risk Tolerance</td>\n",
       "      <td>Biratnagar</td>\n",
       "      <td>60-70</td>\n",
       "    </tr>\n",
       "    <tr>\n",
       "      <th>3</th>\n",
       "      <td>Well Trained</td>\n",
       "      <td>Inhuman Psyche</td>\n",
       "      <td>Anti-social</td>\n",
       "      <td>Need to control others</td>\n",
       "      <td>Pokhara</td>\n",
       "      <td>40-50</td>\n",
       "    </tr>\n",
       "    <tr>\n",
       "      <th>4</th>\n",
       "      <td>Goal-oriented</td>\n",
       "      <td>Passionate</td>\n",
       "      <td>Mass-destruction</td>\n",
       "      <td>Thrill-seeking</td>\n",
       "      <td>Itahari</td>\n",
       "      <td>60-70</td>\n",
       "    </tr>\n",
       "    <tr>\n",
       "      <th>...</th>\n",
       "      <td>...</td>\n",
       "      <td>...</td>\n",
       "      <td>...</td>\n",
       "      <td>...</td>\n",
       "      <td>...</td>\n",
       "      <td>...</td>\n",
       "    </tr>\n",
       "    <tr>\n",
       "      <th>2264</th>\n",
       "      <td>Skilful</td>\n",
       "      <td>Coward</td>\n",
       "      <td>Rebellious</td>\n",
       "      <td>Religious Fundamentalism</td>\n",
       "      <td>Kathmandu</td>\n",
       "      <td>30-40</td>\n",
       "    </tr>\n",
       "    <tr>\n",
       "      <th>2266</th>\n",
       "      <td>Resourceful</td>\n",
       "      <td>Strong-willed</td>\n",
       "      <td>Radical</td>\n",
       "      <td>Intolerance</td>\n",
       "      <td>Hetauda</td>\n",
       "      <td>30-40</td>\n",
       "    </tr>\n",
       "    <tr>\n",
       "      <th>2267</th>\n",
       "      <td>Goal-oriented</td>\n",
       "      <td>Passionate</td>\n",
       "      <td>Mass-destruction</td>\n",
       "      <td>Thrill-seeking</td>\n",
       "      <td>Lalitpur</td>\n",
       "      <td>40-50</td>\n",
       "    </tr>\n",
       "    <tr>\n",
       "      <th>2268</th>\n",
       "      <td>Well Trained</td>\n",
       "      <td>Inhuman Psyche</td>\n",
       "      <td>Anti-social</td>\n",
       "      <td>Need to control others</td>\n",
       "      <td>Bhaktapur</td>\n",
       "      <td>50-60</td>\n",
       "    </tr>\n",
       "    <tr>\n",
       "      <th>2269</th>\n",
       "      <td>Bully</td>\n",
       "      <td>Aggressive</td>\n",
       "      <td>Marginalised</td>\n",
       "      <td>Disregard for law</td>\n",
       "      <td>Chitwan</td>\n",
       "      <td>0-20</td>\n",
       "    </tr>\n",
       "  </tbody>\n",
       "</table>\n",
       "<p>1932 rows × 6 columns</p>\n",
       "</div>"
      ],
      "text/plain": [
       "     Technical Know-How Personal Traits Social Characteristics  \\\n",
       "0                 Bully      Aggressive           Marginalised   \n",
       "1               Skilful          Coward             Rebellious   \n",
       "2        Well-networked     Insensitive              Misguided   \n",
       "3          Well Trained  Inhuman Psyche            Anti-social   \n",
       "4         Goal-oriented      Passionate       Mass-destruction   \n",
       "...                 ...             ...                    ...   \n",
       "2264            Skilful          Coward             Rebellious   \n",
       "2266        Resourceful   Strong-willed                Radical   \n",
       "2267      Goal-oriented      Passionate       Mass-destruction   \n",
       "2268       Well Trained  Inhuman Psyche            Anti-social   \n",
       "2269              Bully      Aggressive           Marginalised   \n",
       "\n",
       "            Motivating Factors        City Age_Range  \n",
       "0            Disregard for law     Chitwan      0-20  \n",
       "1     Religious Fundamentalism    Lalitpur     60-70  \n",
       "2               Risk Tolerance  Biratnagar     60-70  \n",
       "3       Need to control others     Pokhara     40-50  \n",
       "4               Thrill-seeking     Itahari     60-70  \n",
       "...                        ...         ...       ...  \n",
       "2264  Religious Fundamentalism   Kathmandu     30-40  \n",
       "2266               Intolerance     Hetauda     30-40  \n",
       "2267            Thrill-seeking    Lalitpur     40-50  \n",
       "2268    Need to control others   Bhaktapur     50-60  \n",
       "2269         Disregard for law     Chitwan      0-20  \n",
       "\n",
       "[1932 rows x 6 columns]"
      ]
     },
     "execution_count": 367,
     "metadata": {},
     "output_type": "execute_result"
    }
   ],
   "source": [
    "# Converting age into categorical variable.\n",
    "df['Age_Range']=pd.cut(df['Age'],[0,20,30,40,50,60],labels=['0-20','30-40','40-50','50-60','60-70'])\n",
    "df=df.drop('Age',axis=1)\n",
    "df.dropna()"
   ]
  },
  {
   "cell_type": "markdown",
   "metadata": {},
   "source": [
    "### Model Building"
   ]
  },
  {
   "cell_type": "code",
   "execution_count": 368,
   "metadata": {},
   "outputs": [],
   "source": [
    "df_copy=df.copy()"
   ]
  },
  {
   "cell_type": "markdown",
   "metadata": {},
   "source": [
    "### Data Preparation"
   ]
  },
  {
   "cell_type": "code",
   "execution_count": 369,
   "metadata": {},
   "outputs": [],
   "source": [
    "## Convert the columns to the same data type for label encoding\n",
    "def convert_column(df,column):\n",
    "    df[column]=le.fit_transform(df[column].astype(str))\n",
    "    return df"
   ]
  },
  {
   "cell_type": "code",
   "execution_count": 370,
   "metadata": {},
   "outputs": [],
   "source": [
    "## Converting the columns to the same data type\n",
    "\n",
    "df_dummy=convert_column(df,'Technical Know-How')\n",
    "df_dummy=convert_column(df,'Personal Traits')\n",
    "df_dummy=convert_column(df,'Social Characteristics')\n",
    "df_dummy=convert_column(df,'Motivating Factors')\n",
    "df_dummy=convert_column(df,'City')\n",
    "df_dummy=convert_column(df,'Age_Range')\n",
    "\n",
    "df=df_dummy"
   ]
  },
  {
   "cell_type": "code",
   "execution_count": 371,
   "metadata": {},
   "outputs": [
    {
     "data": {
      "text/html": [
       "<div>\n",
       "<style scoped>\n",
       "    .dataframe tbody tr th:only-of-type {\n",
       "        vertical-align: middle;\n",
       "    }\n",
       "\n",
       "    .dataframe tbody tr th {\n",
       "        vertical-align: top;\n",
       "    }\n",
       "\n",
       "    .dataframe thead th {\n",
       "        text-align: right;\n",
       "    }\n",
       "</style>\n",
       "<table border=\"1\" class=\"dataframe\">\n",
       "  <thead>\n",
       "    <tr style=\"text-align: right;\">\n",
       "      <th></th>\n",
       "      <th>Technical Know-How</th>\n",
       "      <th>Personal Traits</th>\n",
       "      <th>Social Characteristics</th>\n",
       "      <th>Motivating Factors</th>\n",
       "      <th>City</th>\n",
       "      <th>Age_Range</th>\n",
       "    </tr>\n",
       "  </thead>\n",
       "  <tbody>\n",
       "    <tr>\n",
       "      <th>0</th>\n",
       "      <td>0</td>\n",
       "      <td>0</td>\n",
       "      <td>7</td>\n",
       "      <td>1</td>\n",
       "      <td>3</td>\n",
       "      <td>0</td>\n",
       "    </tr>\n",
       "    <tr>\n",
       "      <th>1</th>\n",
       "      <td>6</td>\n",
       "      <td>3</td>\n",
       "      <td>11</td>\n",
       "      <td>10</td>\n",
       "      <td>8</td>\n",
       "      <td>4</td>\n",
       "    </tr>\n",
       "    <tr>\n",
       "      <th>2</th>\n",
       "      <td>10</td>\n",
       "      <td>7</td>\n",
       "      <td>9</td>\n",
       "      <td>11</td>\n",
       "      <td>1</td>\n",
       "      <td>4</td>\n",
       "    </tr>\n",
       "    <tr>\n",
       "      <th>3</th>\n",
       "      <td>9</td>\n",
       "      <td>6</td>\n",
       "      <td>1</td>\n",
       "      <td>7</td>\n",
       "      <td>9</td>\n",
       "      <td>2</td>\n",
       "    </tr>\n",
       "    <tr>\n",
       "      <th>4</th>\n",
       "      <td>3</td>\n",
       "      <td>8</td>\n",
       "      <td>8</td>\n",
       "      <td>12</td>\n",
       "      <td>6</td>\n",
       "      <td>4</td>\n",
       "    </tr>\n",
       "    <tr>\n",
       "      <th>...</th>\n",
       "      <td>...</td>\n",
       "      <td>...</td>\n",
       "      <td>...</td>\n",
       "      <td>...</td>\n",
       "      <td>...</td>\n",
       "      <td>...</td>\n",
       "    </tr>\n",
       "    <tr>\n",
       "      <th>2367</th>\n",
       "      <td>8</td>\n",
       "      <td>9</td>\n",
       "      <td>6</td>\n",
       "      <td>2</td>\n",
       "      <td>10</td>\n",
       "      <td>3</td>\n",
       "    </tr>\n",
       "    <tr>\n",
       "      <th>2368</th>\n",
       "      <td>7</td>\n",
       "      <td>2</td>\n",
       "      <td>12</td>\n",
       "      <td>9</td>\n",
       "      <td>10</td>\n",
       "      <td>0</td>\n",
       "    </tr>\n",
       "    <tr>\n",
       "      <th>2369</th>\n",
       "      <td>9</td>\n",
       "      <td>6</td>\n",
       "      <td>1</td>\n",
       "      <td>7</td>\n",
       "      <td>10</td>\n",
       "      <td>2</td>\n",
       "    </tr>\n",
       "    <tr>\n",
       "      <th>2370</th>\n",
       "      <td>7</td>\n",
       "      <td>2</td>\n",
       "      <td>12</td>\n",
       "      <td>9</td>\n",
       "      <td>10</td>\n",
       "      <td>3</td>\n",
       "    </tr>\n",
       "    <tr>\n",
       "      <th>2371</th>\n",
       "      <td>4</td>\n",
       "      <td>5</td>\n",
       "      <td>0</td>\n",
       "      <td>6</td>\n",
       "      <td>10</td>\n",
       "      <td>4</td>\n",
       "    </tr>\n",
       "  </tbody>\n",
       "</table>\n",
       "<p>2372 rows × 6 columns</p>\n",
       "</div>"
      ],
      "text/plain": [
       "      Technical Know-How  Personal Traits  Social Characteristics  \\\n",
       "0                      0                0                       7   \n",
       "1                      6                3                      11   \n",
       "2                     10                7                       9   \n",
       "3                      9                6                       1   \n",
       "4                      3                8                       8   \n",
       "...                  ...              ...                     ...   \n",
       "2367                   8                9                       6   \n",
       "2368                   7                2                      12   \n",
       "2369                   9                6                       1   \n",
       "2370                   7                2                      12   \n",
       "2371                   4                5                       0   \n",
       "\n",
       "      Motivating Factors  City  Age_Range  \n",
       "0                      1     3          0  \n",
       "1                     10     8          4  \n",
       "2                     11     1          4  \n",
       "3                      7     9          2  \n",
       "4                     12     6          4  \n",
       "...                  ...   ...        ...  \n",
       "2367                   2    10          3  \n",
       "2368                   9    10          0  \n",
       "2369                   7    10          2  \n",
       "2370                   9    10          3  \n",
       "2371                   6    10          4  \n",
       "\n",
       "[2372 rows x 6 columns]"
      ]
     },
     "execution_count": 371,
     "metadata": {},
     "output_type": "execute_result"
    }
   ],
   "source": [
    "from sklearn import preprocessing\n",
    "# Checking Null values\n",
    "df.isnull().sum()*100/df.shape[0]\n",
    "le = preprocessing.LabelEncoder()\n",
    "df=df.apply(le.fit_transform)\n",
    "df\n",
    "\n",
    "\n"
   ]
  },
  {
   "cell_type": "code",
   "execution_count": 372,
   "metadata": {},
   "outputs": [],
   "source": [
    "# Importing Libraries\n",
    "\n",
    "from sklearn.cluster import KMeans\n",
    "from sklearn.preprocessing import StandardScaler, normalize\n",
    "from sklearn.decomposition import PCA\n",
    "from sklearn.metrics import silhouette_score"
   ]
  },
  {
   "cell_type": "code",
   "execution_count": 373,
   "metadata": {},
   "outputs": [
    {
     "data": {
      "text/html": [
       "<div>\n",
       "<style scoped>\n",
       "    .dataframe tbody tr th:only-of-type {\n",
       "        vertical-align: middle;\n",
       "    }\n",
       "\n",
       "    .dataframe tbody tr th {\n",
       "        vertical-align: top;\n",
       "    }\n",
       "\n",
       "    .dataframe thead th {\n",
       "        text-align: right;\n",
       "    }\n",
       "</style>\n",
       "<table border=\"1\" class=\"dataframe\">\n",
       "  <thead>\n",
       "    <tr style=\"text-align: right;\">\n",
       "      <th></th>\n",
       "      <th>P1</th>\n",
       "      <th>P2</th>\n",
       "    </tr>\n",
       "  </thead>\n",
       "  <tbody>\n",
       "    <tr>\n",
       "      <th>0</th>\n",
       "      <td>-0.410425</td>\n",
       "      <td>-0.555263</td>\n",
       "    </tr>\n",
       "    <tr>\n",
       "      <th>1</th>\n",
       "      <td>0.684471</td>\n",
       "      <td>-0.390858</td>\n",
       "    </tr>\n",
       "  </tbody>\n",
       "</table>\n",
       "</div>"
      ],
      "text/plain": [
       "         P1        P2\n",
       "0 -0.410425 -0.555263\n",
       "1  0.684471 -0.390858"
      ]
     },
     "execution_count": 373,
     "metadata": {},
     "output_type": "execute_result"
    }
   ],
   "source": [
    "# Standardize data\n",
    "scaler = StandardScaler() \n",
    "scaled_df = scaler.fit_transform(df) \n",
    "  \n",
    "# Normalizing the Data \n",
    "normalized_df = normalize(scaled_df) \n",
    "  \n",
    "# Converting the numpy array into a pandas DataFrame \n",
    "normalized_df = pd.DataFrame(normalized_df) \n",
    "  \n",
    "# Reducing the dimensions of the data \n",
    "pca = PCA(n_components = 2) \n",
    "X_principal = pca.fit_transform(normalized_df) \n",
    "X_principal = pd.DataFrame(X_principal) \n",
    "X_principal.columns = ['P1', 'P2'] \n",
    "  \n",
    "X_principal.head(2)"
   ]
  },
  {
   "cell_type": "markdown",
   "metadata": {},
   "source": [
    "### Elbow Criterion:"
   ]
  },
  {
   "cell_type": "code",
   "execution_count": 374,
   "metadata": {},
   "outputs": [
    {
     "data": {
      "image/png": "[encoded data removed]",
      "text/plain": [
       "<Figure size 432x288 with 1 Axes>"
      ]
     },
     "metadata": {
      "needs_background": "light"
     },
     "output_type": "display_data"
    }
   ],
   "source": [
    "## To find out the best value of K using the elbow graph.\n",
    "sse = {}\n",
    "for k in range(1, 10):\n",
    "    kmeans = KMeans(n_clusters=k, max_iter=1000).fit(X_principal)\n",
    "    sse[k] = kmeans.inertia_ # Inertia: Sum of distances of samples to their closest cluster center\n",
    "plt.figure()\n",
    "plt.plot(list(sse.keys()), list(sse.values()))\n",
    "plt.xlabel(\"Number of cluster\")\n",
    "plt.ylabel(\"SSE\")\n",
    "plt.show()"
   ]
  },
  {
   "cell_type": "code",
   "execution_count": 375,
   "metadata": {},
   "outputs": [
    {
     "data": {
      "text/plain": [
       "KMeans(n_clusters=3)"
      ]
     },
     "execution_count": 375,
     "metadata": {},
     "output_type": "execute_result"
    }
   ],
   "source": [
    "## From the graph it is clear that the best value for K is 3.\n",
    "kmeans = KMeans(n_clusters=3)\n",
    "kmeans.fit(X_principal)"
   ]
  },
  {
   "cell_type": "code",
   "execution_count": 376,
   "metadata": {},
   "outputs": [
    {
     "data": {
      "image/png": "[encoded data removed]",
      "text/plain": [
       "<Figure size 432x288 with 1 Axes>"
      ]
     },
     "metadata": {
      "needs_background": "light"
     },
     "output_type": "display_data"
    }
   ],
   "source": [
    "# Visualizing the clustering \n",
    "plt.scatter(X_principal['P1'], X_principal['P2'],  \n",
    "           c = KMeans(n_clusters = 3).fit_predict(X_principal), cmap =plt.cm.winter) \n",
    "plt.show() "
   ]
  },
  {
   "cell_type": "code",
   "execution_count": 377,
   "metadata": {},
   "outputs": [
    {
     "data": {
      "text/html": [
       "<div>\n",
       "<style scoped>\n",
       "    .dataframe tbody tr th:only-of-type {\n",
       "        vertical-align: middle;\n",
       "    }\n",
       "\n",
       "    .dataframe tbody tr th {\n",
       "        vertical-align: top;\n",
       "    }\n",
       "\n",
       "    .dataframe thead th {\n",
       "        text-align: right;\n",
       "    }\n",
       "</style>\n",
       "<table border=\"1\" class=\"dataframe\">\n",
       "  <thead>\n",
       "    <tr style=\"text-align: right;\">\n",
       "      <th></th>\n",
       "      <th>Technical Know-How</th>\n",
       "      <th>Personal Traits</th>\n",
       "      <th>Social Characteristics</th>\n",
       "      <th>Motivating Factors</th>\n",
       "      <th>City</th>\n",
       "      <th>Age_Range</th>\n",
       "    </tr>\n",
       "  </thead>\n",
       "  <tbody>\n",
       "    <tr>\n",
       "      <th>0</th>\n",
       "      <td>Bully</td>\n",
       "      <td>Aggressive</td>\n",
       "      <td>Marginalised</td>\n",
       "      <td>Disregard for law</td>\n",
       "      <td>Chitwan</td>\n",
       "      <td>0-20</td>\n",
       "    </tr>\n",
       "    <tr>\n",
       "      <th>1</th>\n",
       "      <td>Skilful</td>\n",
       "      <td>Coward</td>\n",
       "      <td>Rebellious</td>\n",
       "      <td>Religious Fundamentalism</td>\n",
       "      <td>Lalitpur</td>\n",
       "      <td>60-70</td>\n",
       "    </tr>\n",
       "    <tr>\n",
       "      <th>2</th>\n",
       "      <td>Well-networked</td>\n",
       "      <td>Insensitive</td>\n",
       "      <td>Misguided</td>\n",
       "      <td>Risk Tolerance</td>\n",
       "      <td>Biratnagar</td>\n",
       "      <td>60-70</td>\n",
       "    </tr>\n",
       "    <tr>\n",
       "      <th>3</th>\n",
       "      <td>Well Trained</td>\n",
       "      <td>Inhuman Psyche</td>\n",
       "      <td>Anti-social</td>\n",
       "      <td>Need to control others</td>\n",
       "      <td>Pokhara</td>\n",
       "      <td>40-50</td>\n",
       "    </tr>\n",
       "    <tr>\n",
       "      <th>4</th>\n",
       "      <td>Goal-oriented</td>\n",
       "      <td>Passionate</td>\n",
       "      <td>Mass-destruction</td>\n",
       "      <td>Thrill-seeking</td>\n",
       "      <td>Itahari</td>\n",
       "      <td>60-70</td>\n",
       "    </tr>\n",
       "    <tr>\n",
       "      <th>...</th>\n",
       "      <td>...</td>\n",
       "      <td>...</td>\n",
       "      <td>...</td>\n",
       "      <td>...</td>\n",
       "      <td>...</td>\n",
       "      <td>...</td>\n",
       "    </tr>\n",
       "    <tr>\n",
       "      <th>2367</th>\n",
       "      <td>Strategic Planners</td>\n",
       "      <td>Secretive</td>\n",
       "      <td>Low self-worth</td>\n",
       "      <td>Emotions</td>\n",
       "      <td>NaN</td>\n",
       "      <td>50-60</td>\n",
       "    </tr>\n",
       "    <tr>\n",
       "      <th>2368</th>\n",
       "      <td>Smart</td>\n",
       "      <td>Coercive</td>\n",
       "      <td>Unlawful</td>\n",
       "      <td>Political Support</td>\n",
       "      <td>NaN</td>\n",
       "      <td>0-20</td>\n",
       "    </tr>\n",
       "    <tr>\n",
       "      <th>2369</th>\n",
       "      <td>Well Trained</td>\n",
       "      <td>Inhuman Psyche</td>\n",
       "      <td>Anti-social</td>\n",
       "      <td>Need to control others</td>\n",
       "      <td>NaN</td>\n",
       "      <td>40-50</td>\n",
       "    </tr>\n",
       "    <tr>\n",
       "      <th>2370</th>\n",
       "      <td>Smart</td>\n",
       "      <td>Coercive</td>\n",
       "      <td>Unlawful</td>\n",
       "      <td>Political Support</td>\n",
       "      <td>NaN</td>\n",
       "      <td>50-60</td>\n",
       "    </tr>\n",
       "    <tr>\n",
       "      <th>2371</th>\n",
       "      <td>Intelligent</td>\n",
       "      <td>Impatient</td>\n",
       "      <td>Anti-establishment</td>\n",
       "      <td>Monetary Gain</td>\n",
       "      <td>NaN</td>\n",
       "      <td>60-70</td>\n",
       "    </tr>\n",
       "  </tbody>\n",
       "</table>\n",
       "<p>2372 rows × 6 columns</p>\n",
       "</div>"
      ],
      "text/plain": [
       "      Technical Know-How Personal Traits Social Characteristics  \\\n",
       "0                  Bully      Aggressive           Marginalised   \n",
       "1                Skilful          Coward             Rebellious   \n",
       "2         Well-networked     Insensitive              Misguided   \n",
       "3           Well Trained  Inhuman Psyche            Anti-social   \n",
       "4          Goal-oriented      Passionate       Mass-destruction   \n",
       "...                  ...             ...                    ...   \n",
       "2367  Strategic Planners       Secretive         Low self-worth   \n",
       "2368               Smart        Coercive               Unlawful   \n",
       "2369        Well Trained  Inhuman Psyche            Anti-social   \n",
       "2370               Smart        Coercive               Unlawful   \n",
       "2371         Intelligent       Impatient     Anti-establishment   \n",
       "\n",
       "            Motivating Factors        City Age_Range  \n",
       "0            Disregard for law     Chitwan      0-20  \n",
       "1     Religious Fundamentalism    Lalitpur     60-70  \n",
       "2               Risk Tolerance  Biratnagar     60-70  \n",
       "3       Need to control others     Pokhara     40-50  \n",
       "4               Thrill-seeking     Itahari     60-70  \n",
       "...                        ...         ...       ...  \n",
       "2367                  Emotions         NaN     50-60  \n",
       "2368         Political Support         NaN      0-20  \n",
       "2369    Need to control others         NaN     40-50  \n",
       "2370         Political Support         NaN     50-60  \n",
       "2371             Monetary Gain         NaN     60-70  \n",
       "\n",
       "[2372 rows x 6 columns]"
      ]
     },
     "execution_count": 377,
     "metadata": {},
     "output_type": "execute_result"
    }
   ],
   "source": [
    "df_copy"
   ]
  },
  {
   "cell_type": "markdown",
   "metadata": {},
   "source": [
    "### Data Analysis"
   ]
  },
  {
   "cell_type": "code",
   "execution_count": 384,
   "metadata": {},
   "outputs": [
    {
     "data": {
      "text/plain": [
       "<matplotlib.axes._subplots.AxesSubplot at 0x1b7a8213b48>"
      ]
     },
     "execution_count": 384,
     "metadata": {},
     "output_type": "execute_result"
    },
    {
     "data": {
      "image/png": "[encoded data removed]",
      "text/plain": [
       "<Figure size 432x288 with 1 Axes>"
      ]
     },
     "metadata": {
      "needs_background": "light"
     },
     "output_type": "display_data"
    }
   ],
   "source": [
    "## Age Group\n",
    "sns.countplot(x=df_copy['Age_Range'])"
   ]
  },
  {
   "cell_type": "code",
   "execution_count": 405,
   "metadata": {},
   "outputs": [
    {
     "data": {
      "text/plain": [
       "Text(0.5, 1.0, 'City Ranked by Density of Mass-Destruction Personality traits')"
      ]
     },
     "execution_count": 405,
     "metadata": {},
     "output_type": "execute_result"
    },
    {
     "data": {
      "image/png": "[encoded data removed]",
      "text/plain": [
       "<Figure size 720x360 with 1 Axes>"
      ]
     },
     "metadata": {
      "needs_background": "light"
     },
     "output_type": "display_data"
    }
   ],
   "source": [
    "## Risk Individual\n",
    "risk=df_copy[df_copy['Social Characteristics'] =='Mass-destruction'].dropna()\n",
    "ax=risk['City'].value_counts().plot.bar(\n",
    "    figsize=(10,5),\n",
    "    color=['Tomato'],\n",
    "    fontsize=12)\n",
    "ax.set_title(\"City Ranked by Density of Mass-Destruction Personality traits\")"
   ]
  },
  {
   "cell_type": "markdown",
   "metadata": {},
   "source": [
    "If the dataset was a real one with genuine observations than from the graph we could conclude that Kathmandu and Itahari are 2 major potential cities where the mass destruction personlaity traits are present. The observation can be used by the concerned authorities to target the general public in these cities to supress such personality in the future."
   ]
  },
  {
   "cell_type": "code",
   "execution_count": 415,
   "metadata": {},
   "outputs": [
    {
     "data": {
      "text/plain": [
       "Text(0.5, 1.0, 'Age Range by Density of Mass-Destruction Personality traits')"
      ]
     },
     "execution_count": 415,
     "metadata": {},
     "output_type": "execute_result"
    },
    {
     "data": {
      "image/png": "[encoded data removed]",
      "text/plain": [
       "<Figure size 720x360 with 1 Axes>"
      ]
     },
     "metadata": {
      "needs_background": "light"
     },
     "output_type": "display_data"
    }
   ],
   "source": [
    "ax=risk['Age_Range'].value_counts().plot.bar(\n",
    "    figsize=(10,5),\n",
    "    color=['orange','purple','green','blue','tomato'],\n",
    "    fontsize=12)\n",
    "ax.set_title(\"Age Range by Density of Mass-Destruction Personality traits\")"
   ]
  },
  {
   "cell_type": "markdown",
   "metadata": {},
   "source": [
    "Here, we can observe that most of the people in the range 30-40 years have such destructive mindset. They can be more dangerous than any other age groups but on the other hand the people in their early 20's are less in number which is a positive aspects as we can target an awarenes campaign to this specific age group in the early stage so that their destructive mindset can be supressed. "
   ]
  },
  {
   "cell_type": "code",
   "execution_count": 417,
   "metadata": {},
   "outputs": [
    {
     "data": {
      "text/plain": [
       "Text(0.5, 1.0, 'City Ranked by Density of Monetary Gain Personality')"
      ]
     },
     "execution_count": 417,
     "metadata": {},
     "output_type": "execute_result"
    },
    {
     "data": {
      "image/png": "[encoded data removed]",
      "text/plain": [
       "<Figure size 720x360 with 1 Axes>"
      ]
     },
     "metadata": {
      "needs_background": "light"
     },
     "output_type": "display_data"
    }
   ],
   "source": [
    "## Monetary Gain\n",
    "money=df_copy[df_copy['Motivating Factors'] =='Monetary Gain'].dropna()\n",
    "ax=money['City'].value_counts().plot.bar(\n",
    "    figsize=(10,5),\n",
    "    color=['Tomato'],\n",
    "    fontsize=12)\n",
    "ax.set_title(\"City Ranked by Density of Monetary Gain Personality\")"
   ]
  },
  {
   "cell_type": "code",
   "execution_count": 418,
   "metadata": {},
   "outputs": [
    {
     "data": {
      "text/plain": [
       "Text(0.5, 1.0, 'Age Range by Density of Monetary Gain Personality traits')"
      ]
     },
     "execution_count": 418,
     "metadata": {},
     "output_type": "execute_result"
    },
    {
     "data": {
      "image/png": "[encoded data removed]",
      "text/plain": [
       "<Figure size 720x360 with 1 Axes>"
      ]
     },
     "metadata": {
      "needs_background": "light"
     },
     "output_type": "display_data"
    }
   ],
   "source": [
    "ax=money['Age_Range'].value_counts().plot.bar(\n",
    "    figsize=(10,5),\n",
    "    color=['orange','purple','green','blue','tomato'],\n",
    "    fontsize=12)\n",
    "ax.set_title(\"Age Range by Density of Monetary Gain Personality traits\")"
   ]
  },
  {
   "cell_type": "markdown",
   "metadata": {},
   "source": [
    "Based on the plots above, these are the insights that I was able to gather. There may be more insights that I'm not seeing, or other visualization methods could show more interesting observations."
   ]
  },
  {
   "cell_type": "markdown",
   "metadata": {},
   "source": [
    "### Conclusion"
   ]
  },
  {
   "cell_type": "markdown",
   "metadata": {},
   "source": [
    "In conclusion, the K-means clustering technique is a simple quick algorithm that can be applied to large datasets to separate them into different partitions; analysis of these partitions may provide a better characterization of Profiling a Cyber Criminal and may be of additional benefit in predicting which city holds the major threat and which age group of people are responsible. The analysis made it clear that with enough data even a dummy data can make sense. If the experiment is conduded in such scale than the risk of cyber crime can be minimized to some extend. A early plan can be formulated to aware the public about different personality traits and how to avoid getting trapped by such criminal activities."
   ]
  }
 ],
 "metadata": {
  "kernelspec": {
   "display_name": "Python 3",
   "language": "python",
   "name": "python3"
  },
  "language_info": {
   "codemirror_mode": {
    "name": "ipython",
    "version": 3
   },
   "file_extension": ".py",
   "mimetype": "text/x-python",
   "name": "python",
   "nbconvert_exporter": "python",
   "pygments_lexer": "ipython3",
   "version": "3.7.4"
  }
 },
 "nbformat": 4,
 "nbformat_minor": 4
}
